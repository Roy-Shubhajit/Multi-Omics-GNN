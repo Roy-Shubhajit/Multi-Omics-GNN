{
 "cells": [
  {
   "cell_type": "code",
   "execution_count": 1,
   "metadata": {},
   "outputs": [],
   "source": [
    "import csv\n",
    "import pandas as pd\n",
    "import numpy as np\n",
    "import anndata as ad\n",
    "from tqdm import tqdm\n",
    "import PyWGCNA as pwc\n",
    "from torch_geometric.data import Data\n",
    "from torch_geometric.utils import to_edge_index\n",
    "import torch"
   ]
  },
  {
   "cell_type": "code",
   "execution_count": 2,
   "metadata": {},
   "outputs": [],
   "source": [
    "with open('data/data.csv') as f:\n",
    "    reader = csv.reader(f)\n",
    "    #remove white space \n",
    "    data = [row for row in reader]\n",
    "    data = [[x.strip() for x in row] for row in data]\n",
    "    data_pd = pd.DataFrame(data[1:], columns=data[0])\n",
    "data_pd['Sample_ID'] = range(1, len(data_pd) + 1)\n",
    "train_data = data_pd.sample(frac=0.8, random_state=0)\n",
    "test_data = data_pd.drop(train_data.index)\n",
    "train_data_X = train_data.drop(columns=['Sample_ID', 'Label'])\n",
    "test_data_X = test_data.drop(columns=['Sample_ID', 'Label'])"
   ]
  },
  {
   "cell_type": "code",
   "execution_count": null,
   "metadata": {},
   "outputs": [],
   "source": [
    "#write train and test data X in csv\n",
    "##### NO NEED TO RUN THIS AGAIN #####\n",
    "train_data_X.to_csv('data/train_data_X.csv', index=False)\n",
    "test_data_X.to_csv('data/test_data_X.csv', index=False)"
   ]
  },
  {
   "cell_type": "code",
   "execution_count": 3,
   "metadata": {},
   "outputs": [],
   "source": [
    "train_data_X_ad = ad.io.read_csv('data/train_data_X.csv')\n",
    "test_data_X_ad = ad.io.read_csv('data/test_data_X.csv')"
   ]
  },
  {
   "cell_type": "code",
   "execution_count": 4,
   "metadata": {},
   "outputs": [
    {
     "name": "stdout",
     "output_type": "stream",
     "text": [
      "\u001b[96mcalculating adjacency matrix ...\u001b[0m\n",
      "\tDone..\n",
      "\n",
      "\u001b[96mcalculating adjacency matrix ...\u001b[0m\n",
      "\tDone..\n",
      "\n"
     ]
    }
   ],
   "source": [
    "train_data_adj = pwc.WGCNA.adjacency(train_data_X_ad.to_df())\n",
    "test_data_adj = pwc.WGCNA.adjacency(test_data_X_ad.to_df())"
   ]
  },
  {
   "cell_type": "code",
   "execution_count": 5,
   "metadata": {},
   "outputs": [],
   "source": [
    "#set all values to 0 for values less than 0.3, other values are kept the same\n",
    "train_data_adj[train_data_adj < 0.3] = 0\n",
    "test_data_adj[test_data_adj < 0.3] = 0"
   ]
  },
  {
   "cell_type": "code",
   "execution_count": 6,
   "metadata": {},
   "outputs": [
    {
     "data": {
      "text/plain": [
       "array([[1., 0., 0., ..., 0., 0., 0.],\n",
       "       [0., 1., 0., ..., 0., 0., 0.],\n",
       "       [0., 0., 1., ..., 0., 0., 0.],\n",
       "       ...,\n",
       "       [0., 0., 0., ..., 1., 0., 0.],\n",
       "       [0., 0., 0., ..., 0., 1., 0.],\n",
       "       [0., 0., 0., ..., 0., 0., 1.]], shape=(38454, 38454))"
      ]
     },
     "execution_count": 6,
     "metadata": {},
     "output_type": "execute_result"
    }
   ],
   "source": [
    "train_data_adj"
   ]
  },
  {
   "cell_type": "code",
   "execution_count": 7,
   "metadata": {},
   "outputs": [],
   "source": [
    "#convert train_data_adj to coo matrix\n",
    "import scipy.sparse as sp\n",
    "train_data_adj_coo = sp.coo_matrix(train_data_adj)\n",
    "test_data_adj_coo = sp.coo_matrix(test_data_adj)"
   ]
  },
  {
   "cell_type": "code",
   "execution_count": 8,
   "metadata": {},
   "outputs": [],
   "source": [
    "train_data_adj_torch = torch.sparse_coo_tensor(train_data_adj_coo.nonzero(), train_data_adj_coo.data, train_data_adj_coo.shape)\n",
    "test_data_adj_torch = torch.sparse_coo_tensor(test_data_adj_coo.nonzero(), test_data_adj_coo.data, test_data_adj_coo.shape)\n"
   ]
  },
  {
   "cell_type": "code",
   "execution_count": 10,
   "metadata": {},
   "outputs": [],
   "source": [
    "def create_graph(adj, data):\n",
    "    graphs = []\n",
    "    edge_index, edge_attr = to_edge_index(adj)\n",
    "    for sample in tqdm(data.values):\n",
    "        x = torch.tensor(sample[2:-1].astype(float), dtype=torch.float)\n",
    "        y = torch.tensor([0 if sample[0]=='N' else 1], dtype=torch.long)\n",
    "        graphs.append(Data(x=x, y=y, edge_index=edge_index, edge_attr=edge_attr))\n",
    "    return graphs"
   ]
  },
  {
   "cell_type": "code",
   "execution_count": 11,
   "metadata": {},
   "outputs": [
    {
     "name": "stderr",
     "output_type": "stream",
     "text": [
      "100%|██████████| 130/130 [00:03<00:00, 40.44it/s]\n",
      "100%|██████████| 32/32 [00:00<00:00, 40.36it/s]\n"
     ]
    }
   ],
   "source": [
    "graph_data_train = create_graph(train_data_adj_torch, train_data)\n",
    "graph_data_test = create_graph(test_data_adj_torch, test_data)"
   ]
  },
  {
   "cell_type": "code",
   "execution_count": 12,
   "metadata": {},
   "outputs": [],
   "source": [
    "#save the graph data\n",
    "torch.save(graph_data_train, 'data/graph_data_train.pt')\n",
    "torch.save(graph_data_test, 'data/graph_data_test.pt')"
   ]
  },
  {
   "cell_type": "code",
   "execution_count": 19,
   "metadata": {},
   "outputs": [],
   "source": [
    "import torch \n",
    "from torch_geometric.utils import to_edge_index\n",
    "A = torch.randn(5, 5)\n"
   ]
  },
  {
   "cell_type": "code",
   "execution_count": 24,
   "metadata": {},
   "outputs": [],
   "source": [
    "A_1 = A < 0.3"
   ]
  },
  {
   "cell_type": "code",
   "execution_count": 26,
   "metadata": {},
   "outputs": [
    {
     "data": {
      "text/plain": [
       "tensor(indices=tensor([[0, 0, 0, 1, 1, 2, 2, 2, 2, 2, 3, 3, 3, 3, 4, 4],\n",
       "                       [2, 3, 4, 2, 4, 0, 1, 2, 3, 4, 0, 1, 2, 4, 2, 3]]),\n",
       "       values=tensor([True, True, True, True, True, True, True, True, True,\n",
       "                      True, True, True, True, True, True, True]),\n",
       "       size=(5, 5), nnz=16, layout=torch.sparse_coo)"
      ]
     },
     "execution_count": 26,
     "metadata": {},
     "output_type": "execute_result"
    }
   ],
   "source": [
    "A_coo_t = A_1.to_sparse()\n",
    "A_coo_t"
   ]
  },
  {
   "cell_type": "code",
   "execution_count": 27,
   "metadata": {},
   "outputs": [],
   "source": [
    "ed, et = to_edge_index(A_coo_t)"
   ]
  },
  {
   "cell_type": "code",
   "execution_count": 28,
   "metadata": {},
   "outputs": [
    {
     "data": {
      "text/plain": [
       "(tensor([True, True, True, True, True, True, True, True, True, True, True, True,\n",
       "         True, True, True, True]),\n",
       " tensor([[0, 0, 0, 1, 1, 2, 2, 2, 2, 2, 3, 3, 3, 3, 4, 4],\n",
       "         [2, 3, 4, 2, 4, 0, 1, 2, 3, 4, 0, 1, 2, 4, 2, 3]]))"
      ]
     },
     "execution_count": 28,
     "metadata": {},
     "output_type": "execute_result"
    }
   ],
   "source": [
    "et, ed"
   ]
  },
  {
   "cell_type": "code",
   "execution_count": 16,
   "metadata": {},
   "outputs": [
    {
     "data": {
      "text/plain": [
       "torch.bool"
      ]
     },
     "execution_count": 16,
     "metadata": {},
     "output_type": "execute_result"
    }
   ],
   "source": [
    "#check whether et is a boolean tensor\n",
    "et.dtype"
   ]
  },
  {
   "cell_type": "code",
   "execution_count": 17,
   "metadata": {},
   "outputs": [],
   "source": [
    "et1 = et.float()"
   ]
  },
  {
   "cell_type": "code",
   "execution_count": 18,
   "metadata": {},
   "outputs": [
    {
     "data": {
      "text/plain": [
       "tensor([1., 1., 1., 1., 1., 1., 1., 1., 1., 1., 1., 1., 1.])"
      ]
     },
     "execution_count": 18,
     "metadata": {},
     "output_type": "execute_result"
    }
   ],
   "source": [
    "et1"
   ]
  }
 ],
 "metadata": {
  "kernelspec": {
   "display_name": ".venv",
   "language": "python",
   "name": "python3"
  },
  "language_info": {
   "codemirror_mode": {
    "name": "ipython",
    "version": 3
   },
   "file_extension": ".py",
   "mimetype": "text/x-python",
   "name": "python",
   "nbconvert_exporter": "python",
   "pygments_lexer": "ipython3",
   "version": "3.10.11"
  }
 },
 "nbformat": 4,
 "nbformat_minor": 2
}
